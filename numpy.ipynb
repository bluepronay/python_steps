{
 "cells": [
  {
   "cell_type": "markdown",
   "metadata": {},
   "source": [
    "Numpy Library in python\n",
    "Faster than list data structures"
   ]
  },
  {
   "cell_type": "code",
   "execution_count": 2,
   "metadata": {},
   "outputs": [],
   "source": [
    "import numpy as np;   #to import the numpy"
   ]
  },
  {
   "cell_type": "code",
   "execution_count": 3,
   "metadata": {},
   "outputs": [
    {
     "name": "stdout",
     "output_type": "stream",
     "text": [
      "[0, 1, 2, 3, 4, 5, 6, 7, 8, 9, 10, 11, 12, 13, 14, 15, 16, 17, 18, 19, 20, 21, 22, 23, 24, 25, 26, 27, 28, 29, 30, 31, 32, 33, 34, 35, 36, 37, 38, 39, 40, 41, 42, 43, 44, 45, 46, 47, 48, 49, 50, 51, 52, 53, 54, 55, 56, 57, 58, 59, 60, 61, 62, 63, 64, 65, 66, 67, 68, 69, 70, 71, 72, 73, 74, 75, 76, 77, 78, 79, 80, 81, 82, 83, 84, 85, 86, 87, 88, 89, 90, 91, 92, 93, 94, 95, 96, 97, 98, 99]\n"
     ]
    }
   ],
   "source": [
    "#to create a array in list\n",
    "lst1=[i for i in range(100)]\n",
    "print(lst1)"
   ]
  },
  {
   "cell_type": "code",
   "execution_count": 7,
   "metadata": {},
   "outputs": [
    {
     "name": "stdout",
     "output_type": "stream",
     "text": [
      "[ 0  1  2  3  4  5  6  7  8  9 10 11 12 13 14 15 16 17 18 19 20 21 22 23\n",
      " 24 25 26 27 28 29 30 31 32 33 34 35 36 37 38 39 40 41 42 43 44 45 46 47\n",
      " 48 49 50 51 52 53 54 55 56 57 58 59 60 61 62 63 64 65 66 67 68 69 70 71\n",
      " 72 73 74 75 76 77 78 79 80 81 82 83 84 85 86 87 88 89 90 91 92 93 94 95\n",
      " 96 97 98 99]\n"
     ]
    }
   ],
   "source": [
    "#to create a array in numpy\n",
    "lst2=np.array([i for i in range(100)])\n",
    "print(lst2)"
   ]
  },
  {
   "cell_type": "markdown",
   "metadata": {},
   "source": [
    "to find its type u can use type function\n",
    "numpy.ndarray means n dimensional array\n",
    "\n",
    "u can also find its shape which shows rows and columns"
   ]
  },
  {
   "cell_type": "code",
   "execution_count": 11,
   "metadata": {},
   "outputs": [
    {
     "data": {
      "text/plain": [
       "numpy.ndarray"
      ]
     },
     "execution_count": 11,
     "metadata": {},
     "output_type": "execute_result"
    }
   ],
   "source": [
    "type(lst2)\n"
   ]
  },
  {
   "cell_type": "code",
   "execution_count": 10,
   "metadata": {},
   "outputs": [
    {
     "data": {
      "text/plain": [
       "(100,)"
      ]
     },
     "execution_count": 10,
     "metadata": {},
     "output_type": "execute_result"
    }
   ],
   "source": [
    "lst2.shape"
   ]
  },
  {
   "cell_type": "markdown",
   "metadata": {},
   "source": [
    "to create a multidimensional array\n",
    "the syntax is very much important "
   ]
  },
  {
   "cell_type": "code",
   "execution_count": 15,
   "metadata": {},
   "outputs": [
    {
     "name": "stdout",
     "output_type": "stream",
     "text": [
      "[[ 1 23  4  5]\n",
      " [ 2  4  9  8]]\n"
     ]
    },
    {
     "data": {
      "text/plain": [
       "(2, 4)"
      ]
     },
     "execution_count": 15,
     "metadata": {},
     "output_type": "execute_result"
    }
   ],
   "source": [
    "lst3=np.array([(1,23,4,5),(2,4,9,8)])\n",
    "print(lst3)\n",
    "lst3.shape"
   ]
  },
  {
   "cell_type": "markdown",
   "metadata": {},
   "source": [
    "now placeholders\n",
    "to start with zeroes,ones and with a specific no"
   ]
  },
  {
   "cell_type": "code",
   "execution_count": 18,
   "metadata": {},
   "outputs": [
    {
     "name": "stdout",
     "output_type": "stream",
     "text": [
      "[[0. 0. 0.]\n",
      " [0. 0. 0.]]\n",
      "[[1. 1. 1. 1. 1. 1.]\n",
      " [1. 1. 1. 1. 1. 1.]\n",
      " [1. 1. 1. 1. 1. 1.]\n",
      " [1. 1. 1. 1. 1. 1.]\n",
      " [1. 1. 1. 1. 1. 1.]\n",
      " [1. 1. 1. 1. 1. 1.]]\n"
     ]
    }
   ],
   "source": [
    "x=np.zeros((2,3))\n",
    "y=np.ones((6,6));\n",
    "print(x)\n",
    "print(y) "
   ]
  },
  {
   "cell_type": "markdown",
   "metadata": {},
   "source": [
    "for a specific no"
   ]
  },
  {
   "cell_type": "code",
   "execution_count": 19,
   "metadata": {},
   "outputs": [
    {
     "name": "stdout",
     "output_type": "stream",
     "text": [
      "[[88 88 88 88]\n",
      " [88 88 88 88]\n",
      " [88 88 88 88]]\n"
     ]
    }
   ],
   "source": [
    "z=np.full((3,4),88)\n",
    "print(z)"
   ]
  },
  {
   "cell_type": "markdown",
   "metadata": {},
   "source": [
    "to create a identity matrix"
   ]
  },
  {
   "cell_type": "code",
   "execution_count": 21,
   "metadata": {},
   "outputs": [
    {
     "name": "stdout",
     "output_type": "stream",
     "text": [
      "[[1. 0. 0. 0. 0.]\n",
      " [0. 1. 0. 0. 0.]\n",
      " [0. 0. 1. 0. 0.]\n",
      " [0. 0. 0. 1. 0.]\n",
      " [0. 0. 0. 0. 1.]]\n"
     ]
    }
   ],
   "source": [
    "identitymatrix=np.eye(5)\n",
    "print(identitymatrix)"
   ]
  },
  {
   "cell_type": "markdown",
   "metadata": {},
   "source": [
    "also used for random values\n",
    "random.random --> values will be between 0 to 1   \n",
    "two arguments only row and column inside double brackets\n",
    "\n",
    "random.randint --> values will be integer and \n",
    "contains four arguments limits also \n",
    "dimensions inside double brackets\n",
    "\n",
    "linspace(lowerlimit,upperlimit,how many numbers we want)  --> evenly spaced no"
   ]
  },
  {
   "cell_type": "code",
   "execution_count": 23,
   "metadata": {},
   "outputs": [
    {
     "name": "stdout",
     "output_type": "stream",
     "text": [
      "[[0.08990132 0.04105322 0.61180413 0.31801526]\n",
      " [0.65608367 0.51063768 0.33294871 0.58112912]\n",
      " [0.79880146 0.94155322 0.76069464 0.29566886]]\n"
     ]
    }
   ],
   "source": [
    "a=np.random.random((3,4))\n",
    "print(a)"
   ]
  },
  {
   "cell_type": "code",
   "execution_count": 25,
   "metadata": {},
   "outputs": [
    {
     "name": "stdout",
     "output_type": "stream",
     "text": [
      "[[106  81  13  70  91]\n",
      " [ 90  93 106  60  51]\n",
      " [ 21  72  28  25  10]]\n"
     ]
    }
   ],
   "source": [
    "b=np.random.randint(10,110,(3,5))\n",
    "print(b)"
   ]
  },
  {
   "cell_type": "code",
   "execution_count": 27,
   "metadata": {},
   "outputs": [
    {
     "name": "stdout",
     "output_type": "stream",
     "text": [
      "[ 10.          21.11111111  32.22222222  43.33333333  54.44444444\n",
      "  65.55555556  76.66666667  87.77777778  98.88888889 110.        ]\n"
     ]
    }
   ],
   "source": [
    "c=np.linspace(10,110,10)\n",
    "print(c)"
   ]
  },
  {
   "cell_type": "markdown",
   "metadata": {},
   "source": [
    "if the steps are decided then np.array(lowerlimit,upperlimit,space/steps)"
   ]
  },
  {
   "cell_type": "code",
   "execution_count": 32,
   "metadata": {},
   "outputs": [
    {
     "ename": "TypeError",
     "evalue": "array() takes from 1 to 2 positional arguments but 3 were given",
     "output_type": "error",
     "traceback": [
      "\u001b[1;31m---------------------------------------------------------------------------\u001b[0m",
      "\u001b[1;31mTypeError\u001b[0m                                 Traceback (most recent call last)",
      "Cell \u001b[1;32mIn[32], line 1\u001b[0m\n\u001b[1;32m----> 1\u001b[0m d\u001b[38;5;241m=\u001b[39m\u001b[43mnp\u001b[49m\u001b[38;5;241;43m.\u001b[39;49m\u001b[43marray\u001b[49m\u001b[43m(\u001b[49m\u001b[38;5;241;43m10\u001b[39;49m\u001b[43m,\u001b[49m\u001b[38;5;241;43m100\u001b[39;49m\u001b[43m,\u001b[49m\u001b[38;5;241;43m3\u001b[39;49m\u001b[43m)\u001b[49m\n\u001b[0;32m      2\u001b[0m \u001b[38;5;28mprint\u001b[39m(d)\n",
      "\u001b[1;31mTypeError\u001b[0m: array() takes from 1 to 2 positional arguments but 3 were given"
     ]
    }
   ],
   "source": [
    "d=np.array(10,100,3)\n",
    "print(d)"
   ]
  },
  {
   "cell_type": "markdown",
   "metadata": {},
   "source": [
    "to convert a list into array"
   ]
  },
  {
   "cell_type": "code",
   "execution_count": 40,
   "metadata": {},
   "outputs": [
    {
     "name": "stdout",
     "output_type": "stream",
     "text": [
      "[ 0  1  2  3  4  5  6  7  8  9 10 11 12 13 14 15 16 17 18 19 20 21 22 23\n",
      " 24 25 26 27 28 29 30 31 32 33 34 35 36 37 38 39 40 41 42 43 44 45 46 47\n",
      " 48 49 50 51 52 53 54 55 56 57 58 59 60 61 62 63 64 65 66 67 68 69 70 71\n",
      " 72 73 74 75 76 77 78 79 80 81 82 83 84 85 86 87 88 89 90 91 92 93 94 95\n",
      " 96 97 98 99]\n"
     ]
    },
    {
     "data": {
      "text/plain": [
       "numpy.ndarray"
      ]
     },
     "execution_count": 40,
     "metadata": {},
     "output_type": "execute_result"
    }
   ],
   "source": [
    "lst4=np.array(lst1)\n",
    "print(lst4)\n",
    "type(lst1)\n",
    "type(lst4)"
   ]
  },
  {
   "cell_type": "markdown",
   "metadata": {},
   "source": [
    "Analysing an array\n",
    "a.shape tells the dimensions\n",
    "a.ndim tell how many dimensions\n",
    "a.size tell how many elements\n",
    "a.dtype tells the data type"
   ]
  },
  {
   "cell_type": "code",
   "execution_count": 41,
   "metadata": {},
   "outputs": [
    {
     "name": "stdout",
     "output_type": "stream",
     "text": [
      "[[88 20 10 31 74]\n",
      " [10 77 65 78 18]\n",
      " [33 30 75 69 34]\n",
      " [50 23 62 12 48]\n",
      " [77 53 14 99 49]]\n"
     ]
    }
   ],
   "source": [
    "a=np.random.randint(10,100,(5,5))\n",
    "print(a)"
   ]
  },
  {
   "cell_type": "code",
   "execution_count": 44,
   "metadata": {},
   "outputs": [
    {
     "name": "stdout",
     "output_type": "stream",
     "text": [
      "(5, 5)\n",
      "2\n",
      "25\n",
      "int32\n"
     ]
    }
   ],
   "source": [
    "print(a.shape)\n",
    "print(a.ndim)\n",
    "print(a.size)\n",
    "print(a.dtype)\n"
   ]
  },
  {
   "cell_type": "markdown",
   "metadata": {},
   "source": [
    "Mathematical operation\n",
    "we can perform it like mathematical operation"
   ]
  },
  {
   "cell_type": "code",
   "execution_count": 47,
   "metadata": {},
   "outputs": [
    {
     "name": "stdout",
     "output_type": "stream",
     "text": [
      "[[39 33 83 43 20]\n",
      " [60 95 17 33 78]\n",
      " [70 27 41 96 71]\n",
      " [71 80 25 39 88]\n",
      " [60 60 67 41 71]]\n",
      "[[13 25 40 91 53]\n",
      " [65 29 96 51 63]\n",
      " [33 50 90 28 35]\n",
      " [23 70 66 28 94]\n",
      " [56 12 80 10 72]]\n",
      "[[ 52  58 123 134  73]\n",
      " [125 124 113  84 141]\n",
      " [103  77 131 124 106]\n",
      " [ 94 150  91  67 182]\n",
      " [116  72 147  51 143]]\n",
      "[[ 26   8  43 -48 -33]\n",
      " [ -5  66 -79 -18  15]\n",
      " [ 37 -23 -49  68  36]\n",
      " [ 48  10 -41  11  -6]\n",
      " [  4  48 -13  31  -1]]\n",
      "[[ 507  825 3320 3913 1060]\n",
      " [3900 2755 1632 1683 4914]\n",
      " [2310 1350 3690 2688 2485]\n",
      " [1633 5600 1650 1092 8272]\n",
      " [3360  720 5360  410 5112]]\n",
      "[[3.         1.32       2.075      0.47252747 0.37735849]\n",
      " [0.92307692 3.27586207 0.17708333 0.64705882 1.23809524]\n",
      " [2.12121212 0.54       0.45555556 3.42857143 2.02857143]\n",
      " [3.08695652 1.14285714 0.37878788 1.39285714 0.93617021]\n",
      " [1.07142857 5.         0.8375     4.1        0.98611111]]\n"
     ]
    }
   ],
   "source": [
    "a=np.random.randint(10,100,(5,5))\n",
    "print(a)\n",
    "b=np.random.randint(10,100,(5,5))\n",
    "print(b)\n",
    "\n",
    "print(a+b)\n",
    "print(a-b)\n",
    "print(a*b)\n",
    "print(a/b)"
   ]
  },
  {
   "cell_type": "markdown",
   "metadata": {},
   "source": [
    "Manipulation of array"
   ]
  },
  {
   "cell_type": "code",
   "execution_count": 48,
   "metadata": {},
   "outputs": [
    {
     "name": "stdout",
     "output_type": "stream",
     "text": [
      "[[39 33 83 43 20]\n",
      " [60 95 17 33 78]\n",
      " [70 27 41 96 71]\n",
      " [71 80 25 39 88]\n",
      " [60 60 67 41 71]]\n",
      "[[39 60 70 71 60]\n",
      " [33 95 27 80 60]\n",
      " [83 17 41 25 67]\n",
      " [43 33 96 39 41]\n",
      " [20 78 71 88 71]]\n"
     ]
    }
   ],
   "source": [
    "transpose_a=np.transpose(a)\n",
    "print(a)\n",
    "print(transpose_a)"
   ]
  },
  {
   "cell_type": "markdown",
   "metadata": {},
   "source": [
    "Reshaping an array --> to change the dimension of an array"
   ]
  },
  {
   "cell_type": "code",
   "execution_count": 50,
   "metadata": {},
   "outputs": [
    {
     "name": "stdout",
     "output_type": "stream",
     "text": [
      "[[37 46 35 53]\n",
      " [50 36 50 47]\n",
      " [47 49 42 54]\n",
      " [50 34 35 49]]\n",
      "[[37 46]\n",
      " [35 53]\n",
      " [50 36]\n",
      " [50 47]\n",
      " [47 49]\n",
      " [42 54]\n",
      " [50 34]\n",
      " [35 49]]\n"
     ]
    }
   ],
   "source": [
    "a=np.random.randint(34,55,(4,4))\n",
    "print(a)\n",
    "b=a.reshape((8,2))\n",
    "print(b)"
   ]
  },
  {
   "cell_type": "code",
   "execution_count": null,
   "metadata": {},
   "outputs": [],
   "source": []
  }
 ],
 "metadata": {
  "kernelspec": {
   "display_name": "Python 3",
   "language": "python",
   "name": "python3"
  },
  "language_info": {
   "codemirror_mode": {
    "name": "ipython",
    "version": 3
   },
   "file_extension": ".py",
   "mimetype": "text/x-python",
   "name": "python",
   "nbconvert_exporter": "python",
   "pygments_lexer": "ipython3",
   "version": "3.11.4"
  }
 },
 "nbformat": 4,
 "nbformat_minor": 2
}
